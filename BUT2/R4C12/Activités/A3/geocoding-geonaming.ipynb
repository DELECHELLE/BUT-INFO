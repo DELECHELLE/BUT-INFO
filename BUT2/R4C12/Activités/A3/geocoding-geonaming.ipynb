{
 "cells": [
  {
   "cell_type": "markdown",
   "metadata": {},
   "source": [
    "# Tutoriel #3 - Geocoding, geonaming\n",
    "\n",
    "Ce notebook est une introduction aux :\n",
    "\n",
    "1. **Gecoding** : action qui consiste à convertir des adresses en coordonnées géographiques à placer sur une carte.\n",
    "2. **Geonaming** : action qui consiste à donner un nom à un lieu sur une carte."
   ]
  },
  {
   "cell_type": "markdown",
   "metadata": {},
   "source": [
    "## Mise en place\n",
    "Commençons par charger la librairie `Pandas`."
   ]
  },
  {
   "cell_type": "code",
   "execution_count": null,
   "metadata": {},
   "outputs": [],
   "source": [
    "import pandas as pd"
   ]
  },
  {
   "cell_type": "markdown",
   "metadata": {},
   "source": [
    "## Données initiales\n",
    "\n",
    "Nous ne disposons, ici, que des codes géographiques des départements. Ces codes sont appelés **codes officiels géographiques** (COG).\n",
    "\n",
    "Les départements métropolitains étaient numérotés dans l'ordre alphabétique à l'origine (01 Ain, 02 Aisne, 03 Allier, 04 Alpes-de-Haute-Provence, 12 Aveyron, 13 Bouches-du-Rhône, ..., 93 Seine-Saint-Denis, 94 Val-de-Marne, etc.), avant des changements de noms et le redécoupage de l'Île-de-France en 1968.\n",
    "\n",
    "En 1976, la Corse (20) est divisée en deux. Plutôt que de revoir la numérotation globale, les deux nouveaux départements reçoivent un code alphanumérique : 2A (comme Ajaccio) pour la Corse-du-Sud, 2B (comme Bastia) pour la Haute-Corse.\n",
    "\n",
    "> En 1946, les départements d'outre-mer sont créés et reçoivent en 1948 un code avec le préfixe 97 : Guadeloupe 971,  Martinique 972, Guyane 973, La Réunion 974.\n",
    "\n",
    "**Attention** : Seuls les départements métropolitains seront traités dans ce tutoriel. Les COG pris en compte seront donc ceux allant de `01` à `95`."
   ]
  },
  {
   "cell_type": "code",
   "execution_count": null,
   "metadata": {},
   "outputs": [],
   "source": [
    "# Génération des COG métropolitains de 01 à 95 codés sur 2 caractères\n",
    "cog = [ f\"{code:02d}\" for code in range(1,96)]\n",
    "\n",
    "# On remplace le code 20 (Corse) par les codes des deux départements de la Corse, soit 2A et 2B\n",
    "cog = [x for item in cog for x in (['2A', '2B'] if item == '20' else [item])]\n",
    "print(cog)"
   ]
  },
  {
   "cell_type": "markdown",
   "metadata": {},
   "source": [
    "## Geocoding et geonaming des départements\n",
    "\n",
    "Afin de déterminer **le nom et les limites géographiques de chaque département**, à partir de la liste des COG, nous allons faire appel à `Nominatim` un des services de géo-information présents sur le Web.\n",
    "\n",
    "> **Nominatim** peut effectuer un géocodage direct et inverse et prend en charge tous les pays, langues et formats d'adresses du monde. Il est développé et maintenu par la communauté OpenStreetMap (OSM) et utilisé comme service de géocodage par défaut pour les données OSM.\n",
    "\n",
    "Par défaut, Nominatim renvoie une page HTML formatée, prête à être affichée dans le navigateur.\n",
    "> Essayez en cliquant sur ce lien https://nominatim.openstreetmap.org/ui/search.html?county=FR-94 qui permet de géocoder le département 94 (Val-de-Marne).\n",
    "\n",
    "Si vous avez besoin d'un format de réponse lisible par une machine, vous devrez modifier l'URL de la manière suivante : https://nominatim.openstreetmap.org/ui/search et ajouter les paramètres :\n",
    "*  `format` et le définir sur l'un des formats de sortie «xml», «json», «geojson» et «geocodejson».\n",
    "*  `polygon_geojson=1` afin d'obtenir les limites du département sous forme vectorielle.\n",
    "\n",
    "Nous recommandons d'utiliser «json» ou «geojson». Le deuxième format «geojson», est généralement compatible avec la spécification GeoJSON et qui, dans le cas de Nominatim, inclut la structure d'adresse la plus complète et la plus standardisée.\n",
    "\n",
    "L'API est interrogeable à l'adresse https://nominatim.openstreetmap.org/\n",
    "\n",
    "Exemple de sortie de géocodage pour \"/search?state=France&county=94&format=json&polygon_geojson=1&limit=1\""
   ]
  },
  {
   "cell_type": "code",
   "execution_count": null,
   "metadata": {},
   "outputs": [],
   "source": [
    "import pandas as pd\n",
    "\n",
    "# Requête vers l'API Nominatim\n",
    "code_dpt = 94\n",
    "URL = f\"https://nominatim.openstreetmap.org/search?state=France&county=FR-{code_dpt}&format=json&polygon_geojson=1&limit=1\"\n",
    "# Exécution de la requête à l'aide de Pandas\n",
    "data = pd.read_json(URL)\n",
    "data.head()"
   ]
  },
  {
   "cell_type": "markdown",
   "metadata": {},
   "source": [
    "On remarque que le DataFrame ne contient qu'une seule ligne (une seule série à l'index 0). Le code suivant permet de récupérer cette série."
   ]
  },
  {
   "cell_type": "code",
   "execution_count": null,
   "metadata": {},
   "outputs": [],
   "source": [
    "# Extraction de la série du DataFrame\n",
    "data = data.iloc[0]\n",
    "print(data)"
   ]
  },
  {
   "cell_type": "code",
   "execution_count": null,
   "metadata": {},
   "outputs": [],
   "source": [
    "# Geonaming : extraction du champ 'display_name'\n",
    "nom = data.display_name\n",
    "print(nom)"
   ]
  },
  {
   "cell_type": "code",
   "execution_count": null,
   "metadata": {},
   "outputs": [],
   "source": [
    "# Geocoding : extraction des coordonnées centrales (centroïde du département)\n",
    "lat, lon = data.lat, data.lon\n",
    "print(f\"latitude={lat}, longitude={lon}\")"
   ]
  },
  {
   "cell_type": "code",
   "execution_count": null,
   "metadata": {},
   "outputs": [],
   "source": [
    "# Geocoding : extraction de la limite du département au format geojson\n",
    "limite = data.geojson\n",
    "print(limite)"
   ]
  },
  {
   "cell_type": "markdown",
   "metadata": {},
   "source": [
    "## Web mapping\n",
    "\n",
    "Nous disposons, à présent, de toutes les informations qui vont nous permettre de représenter le département sur une carte.\n",
    "\n",
    "La carte est construite à partir du **service de cartes (WMS)** offert par `Folium`.\n",
    "\n",
    "Sur cette carte, les limites du département sont placées, ainsi que le nom sous forme d'une info-bulle avec `Tooltip`.\n"
   ]
  },
  {
   "cell_type": "markdown",
   "metadata": {},
   "source": [
    "Si  besoin, installer le module folium à l'aide de la commande\n",
    "```shell\n",
    "pip install folium\n",
    "```"
   ]
  },
  {
   "cell_type": "code",
   "execution_count": null,
   "metadata": {},
   "outputs": [],
   "source": [
    "import folium\n",
    "\n",
    "# Service WMS : récupérartion de la carte centrée sur le centroïde du département\n",
    "m = folium.Map(location=[lat, lon], zoom_start=11)\n",
    "\n",
    "# Ajouter le nom et les contours du département au format GeoJSON à la carte\n",
    "folium.GeoJson(limite, tooltip=folium.Tooltip(nom)).add_to(m)\n",
    "\n",
    "# Afficher la carte dans le notebook\n",
    "m"
   ]
  },
  {
   "cell_type": "markdown",
   "metadata": {},
   "source": [
    "## Utilisation d'un géocodeur intégré\n",
    "\n",
    "Il est possible d'accéder à `Nominatim` sans passer par l'API mais en utilisant le module Python `GeoPy`.\n",
    "\n",
    "Nous allons voir de quelle manière utiliser les fonctionalités de géocodage de ce module.\n",
    "\n",
    "Commençons par installer `GeoPy` :"
   ]
  },
  {
   "cell_type": "code",
   "execution_count": null,
   "metadata": {},
   "outputs": [],
   "source": [
    "! pip install geopy"
   ]
  },
  {
   "cell_type": "markdown",
   "metadata": {},
   "source": [
    "A présent, nous allons tester le géocodage d'un département en donnant uniquement son COG, ici 2A pour la Corse-du-Sud.\n",
    "\n",
    "> Remarque : lors de la requête de géocodage le préfix `FR-` est ajouté devant le COG afin de lever toute ambiguïté sur le sens à donner à ce code."
   ]
  },
  {
   "cell_type": "code",
   "execution_count": null,
   "metadata": {},
   "outputs": [],
   "source": [
    "from geopy.geocoders import Nominatim\n",
    "\n",
    "# Initialiser le géocodeur Nominatim\n",
    "geolocator = Nominatim(user_agent=\"geo_parsing_example\")\n",
    "\n",
    "# Recherche d'un département par son code, ici la Corse-du-Sud (2A)\n",
    "code_dpt = '2A'\n",
    "location = geolocator.geocode(f\"FR-{code_dpt}\", geometry=\"geojson\", language ='fr', addressdetails = True, timeout=1)\n",
    "\n",
    "# 'FR-' est ajouté en préfix du COG du département : soit 'FR-2A' ici.\n",
    "# geometry=\"geojson\" : permet de récupérer les limites du département.\n",
    "# language ='fr' : permet de spécifier la langue utilisée pour les résultats renvoyés.\n",
    "# addressdetails = True : permet d'assurer de récuperer tous les détails concernant le lieu.\n",
    "# timeout = 1 : temporisation (en secondes) pour attendre la réponse du serveur.\n",
    "\n",
    "# Affichage des informations reçues\n",
    "location.raw"
   ]
  },
  {
   "cell_type": "markdown",
   "metadata": {},
   "source": [
    "Le champ `raw` de la variable contient un dictionnaire qui renferme l'ensmble des information retournée par Nominatim.\n",
    "\n",
    "Il reste à afficher les données récupérées sur une carte :"
   ]
  },
  {
   "cell_type": "code",
   "execution_count": null,
   "metadata": {},
   "outputs": [],
   "source": [
    "import folium\n",
    "\n",
    "# Position du centroïde\n",
    "lat = location.raw['lat']\n",
    "lon = location.raw['lon']\n",
    "\n",
    "# Limite du département\n",
    "limite = location.raw['geojson']\n",
    "\n",
    "# Les noms du département, de la région et du pays\n",
    "nom = location.raw['name']\n",
    "region = location.raw['address']['state']\n",
    "pays = location.raw['address']['country']\n",
    "\n",
    "# Créer la carte centrée sur le centroïde du département\n",
    "m = folium.Map(location=[lat, lon], zoom_start=8)\n",
    "\n",
    "# Ajouter le nom et les contours du département au format GeoJSON à la carte\n",
    "folium.GeoJson(limite, tooltip=folium.Tooltip(f\"{nom}, {region}, {pays}\")).add_to(m)\n",
    "\n",
    "# Afficher la carte dans le notebook\n",
    "m"
   ]
  },
  {
   "cell_type": "markdown",
   "metadata": {},
   "source": [
    "On sauvegarde la carte au format HTML :"
   ]
  },
  {
   "cell_type": "code",
   "execution_count": null,
   "metadata": {},
   "outputs": [],
   "source": [
    "m.save(f\"carte_departement_{code_dpt}.html\")"
   ]
  },
  {
   "cell_type": "markdown",
   "metadata": {},
   "source": [
    "> La page web est créer dans le dossier courant. Vous pouvez l'ouvrir, au sein d'un serveur local, en la sélectionnant et en cliquant sur \"Go Live\" en bas à droite de l'interface VSC."
   ]
  },
  {
   "cell_type": "markdown",
   "metadata": {},
   "source": [
    "## A faire ...\n",
    "\n",
    "En utilisant l'approche de géocodage par le géocodeur intégré à `GeoPy`, vous devez construire une carte regroupant tous les départements métropolitains en partant uniqement de la liste des COG (voir première partie du tutoriel).\n",
    "\n",
    "La carte devra :\n",
    "* être centrée sur le centroïde de la France métropolitaine ;\n",
    "* avoir un niveau de zoom adapté afin de visualiser l'ensemble du territoire.\n",
    "\n",
    "<br>\n",
    "\n",
    "> Cette carte des départements pourra être sauvegardée au format HTML et ouverte dans un navigateur Web depuis un serveur local.\n"
   ]
  },
  {
   "cell_type": "code",
   "execution_count": null,
   "metadata": {},
   "outputs": [],
   "source": [
    "# Code du GeoMapping de tous les départements métropolitains\n",
    "'''à compléter...'''"
   ]
  }
 ],
 "metadata": {
  "kernelspec": {
   "display_name": "Python 3",
   "language": "python",
   "name": "python3"
  },
  "language_info": {
   "codemirror_mode": {
    "name": "ipython",
    "version": 3
   },
   "file_extension": ".py",
   "mimetype": "text/x-python",
   "name": "python",
   "nbconvert_exporter": "python",
   "pygments_lexer": "ipython3",
   "version": "3.11.9"
  }
 },
 "nbformat": 4,
 "nbformat_minor": 1
}
