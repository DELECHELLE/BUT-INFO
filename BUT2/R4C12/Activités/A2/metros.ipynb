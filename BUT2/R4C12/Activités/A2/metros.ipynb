{
 "cells": [
  {
   "cell_type": "markdown",
   "metadata": {},
   "source": [
    "# Tutoriel #2 - Mappage vectoriel"
   ]
  },
  {
   "cell_type": "markdown",
   "metadata": {},
   "source": [
    "## Cartographie des lignes de métros à Paris"
   ]
  },
  {
   "cell_type": "markdown",
   "metadata": {},
   "source": [
    "## Mise en place de la page Web\n",
    "\n",
    "Le squellette initial de la page web est donné ci-dessous. Cette page va être compléter des différents éléments nécessaires à la création de la carte, àsavoir :\n",
    "\n",
    "* Le code JavaScript, à produire, doit être placé entre les balises `<script>...</script>` dans le corps (balises `body`) de la page.\n",
    "* Les éléments de styles seront déclarés entre les balises `<style>...</style>` dans l'entête (balises `head`) de la page.\n"
   ]
  },
  {
   "cell_type": "markdown",
   "metadata": {},
   "source": [
    "<small>\n",
    "\n",
    "```HTML\n",
    "<!DOCTYPE html>\n",
    "<html lang=\"fr\">\n",
    "<head>\n",
    "    <meta charset=\"UTF-8\">\n",
    "    <meta name=\"viewport\" content=\"width=device-width, initial-scale=1.0\">\n",
    "    <title>Carte des Lignes de Métro de Paris</title>\n",
    "\n",
    "    <!-- Import des bibliothèques leaflet  -->\n",
    "    <link rel=\"stylesheet\" href=\"https://unpkg.com/leaflet/dist/leaflet.css\"/>\n",
    "    <script src=\"https://unpkg.com/leaflet/dist/leaflet.js\"></script>\n",
    "    <script src=\"https://cdnjs.cloudflare.com/ajax/libs/leaflet-ajax/2.1.0/leaflet.ajax.min.js\"></script>\n",
    "    \n",
    "    <!-- Définition des styles -->\n",
    "    <style>\n",
    "        h1 {\n",
    "            font-family: Verdana, Geneva, Tahoma, sans-serif;\n",
    "            font-size: 22px;\n",
    "        }\n",
    "\n",
    "        /* Ajouter un peu de style pour le contrôle personnalisé */\n",
    "        .leaflet-control-layers {\n",
    "            z-index: 400; /* S'assurer que les contrôles sont bien visibles */\n",
    "        }\n",
    "\n",
    "        .leaflet-control-layers-toggle {\n",
    "            display: none; /* Cache l'icône par défaut du contrôle de couches */\n",
    "        }\n",
    "\n",
    "        /* Style personnalisé pour la case à cocher */\n",
    "        .leaflet-control-custom {\n",
    "            padding: 10px;\n",
    "            font-size: 14px;\n",
    "        }\n",
    "\n",
    "        /* Appliquer un style pour afficher la case à cocher et le texte sur une seule ligne */\n",
    "        .checkbox-container {\n",
    "            display: flex;           /* Utilisation de flexbox pour aligner horizontalement */\n",
    "            align-items: center;     /* Centrer verticalement */\n",
    "            margin-bottom: 10px;     /* Espacement en bas */\n",
    "        }\n",
    "\n",
    "        .checkbox-container input[type=\"checkbox\"] {\n",
    "            margin-right: 5px;       /* Espacement entre la case à cocher et le texte */\n",
    "        }\n",
    "    </style>\n",
    "</head>\n",
    "<body>\n",
    "    <h1>Carte des lignes de Métros de Paris</h1>\n",
    "    \n",
    "    <!-- Cette div est le réceptacle de la carte qui est générée par le code JS -->\n",
    "    <div id=\"map\" style=\"width: 100%; height: 500px;\"></div>\n",
    "\n",
    "    <!-- Partie du script en javascript -->\n",
    "    <script>\n",
    "        // à compléter ...\n",
    "    </script>\n",
    "</body>\n",
    "</html>\n",
    "```\n",
    "\n",
    "</small>"
   ]
  },
  {
   "cell_type": "markdown",
   "metadata": {},
   "source": [
    "1. Editer une page web contenant cette structure de base.\n",
    "2. Ouvrir la page au sein du serveur local (avec l'outil ![alt text](image-1.png) de VSC)."
   ]
  },
  {
   "cell_type": "markdown",
   "metadata": {},
   "source": [
    "## Script Javascript"
   ]
  },
  {
   "cell_type": "markdown",
   "metadata": {},
   "source": [
    "### Fond de carte"
   ]
  },
  {
   "cell_type": "markdown",
   "metadata": {},
   "source": [
    "La première étape consiste à initialiser le fond de carte. Le code `JavaScript` suivant déclare une carte centrée sur la ville de Paris.\n",
    "\n",
    "```javascript\n",
    "    // Initialiser la carte centrée sur Paris avec un niveau de zoom adapté\n",
    "    var map = L.map('map').setView([48.8566, 2.3522], 12);  // Paris\n",
    "\n",
    "    // Ajouter une couche de fond (OpenStreetMap)\n",
    "    L.tileLayer('https://{s}.tile.openstreetmap.org/{z}/{x}/{y}.png').addTo(map);\n",
    "```"
   ]
  },
  {
   "cell_type": "markdown",
   "metadata": {},
   "source": [
    "Leaflet utilise le WMS OpenStreetMap afin de récupérer un fond de carte correspondant à la localisation et à l'étendue (niveau de zoom) passés en paramètres. \n",
    "\n",
    "1. Insérer ces lignes de code dans la page web.\n",
    "2. Ouvrir la page au sein du serveur local (avec l'outil ![alt text](image-1.png) de VSC).\n",
    "3. Modifier le niveau de zoom et constater les modifications apportées à la carte."
   ]
  },
  {
   "cell_type": "markdown",
   "metadata": {},
   "source": [
    "### Calques et contrôles"
   ]
  },
  {
   "cell_type": "markdown",
   "metadata": {},
   "source": [
    "Un **calque** (ou layer) permet de placer des éléments sur un fond de carte. Ces éléments peuvent être de type `raster` ou `vectoriel`. Plusieurs calques peuvent être définis sur une même carte.\n",
    "\n",
    "Un calque peut lui même être composé de sous calques (ou couches), on parle de **groupe de calques**.\n",
    "\n",
    "Le code ci-dessous déclare un groupe de claques, pour l'instant vide, qui va permettre d'y stocker les différentes lignes de métros."
   ]
  },
  {
   "cell_type": "markdown",
   "metadata": {},
   "source": [
    "```javascript\n",
    "// Créer un objet pour stocker toutes les lignes\n",
    "var allLinesLayer = L.layerGroup().addTo(map);\n",
    "```"
   ]
  },
  {
   "cell_type": "markdown",
   "metadata": {},
   "source": [
    "Un **contrôle** (ou control) est un élément interactif que l'on ajoute à la carte pour permettre à l'utilisateur de contrôler divers aspects de la carte, tels que l'affichage, la navigation ou d'autres fonctionnalités comme la sélection de calques à afficher.\n",
    "\n",
    "La ligne de code suivante permet d'insatncier une **boite de contrôles**, pour l'instant vide, qui sera superposée à la carte."
   ]
  },
  {
   "cell_type": "markdown",
   "metadata": {},
   "source": [
    "```javascript\n",
    "// Créer un contrôle de couches vide\n",
    "var votre_controle = L.control.layers({}, {}, {collapsed: false}).addTo(map);\n",
    "```"
   ]
  },
  {
   "cell_type": "markdown",
   "metadata": {},
   "source": [
    "1. Ajouter le layerGroup et control.layers au code dans la page HTML.\n",
    "2. Ouvrir cette page dans le navigateur. Le calque n'est pas visible puisqu'il ne cotient pour l'instant aucun objet. La boite de contrôle, vide aussi, est elle visible en haut à droite de la carte."
   ]
  },
  {
   "cell_type": "markdown",
   "metadata": {},
   "source": [
    "#### Lecture des données vectorielles\n",
    "\n",
    "Les données décrivant les lignes de métros sont disponibles dans le fichier au format JSON `metros.json`. Il est possible de l'ouvrir avec VSC afin d'en connaitre le contenu.\n",
    "\n",
    "Sous JavaScript, ce fichier est lu à l'aide de la fonction `fetch()`. Le code ci-dessous permet de réaliser l'opération de lecture et l'affichage dans la console du navigateur des données lue depuis un fichier `JSON`.\n",
    "\n",
    "```javascript\n",
    "    // URL du fichier GeoJSON des lignes de métro de Paris\n",
    "    var metroGeoJSONUrl = 'metros.json';  // ici, le fichier est dans le même dossier que la page web\n",
    "\n",
    "    // Fonction pour lire les lignes de métro\n",
    "    fetch(metroGeoJSONUrl)\n",
    "        .then(response => response.json()) // si la réponse est ok la partie then(data => {...} est déclenchée\n",
    "        .then(data => { // data contient les données lues dans le fichier Json\n",
    "            // affichage du contenu de la variable dans la console du navigateur\n",
    "            console.log(data.features); // le champs 'features' contient les infos utiles\n",
    "        })\n",
    "        .catch(error => console.log('Erreur lors du chargement du fichier GeoJSON:', error));\n",
    "```\n",
    "\n",
    "> La méthode [fetch()](https://developer.mozilla.org/fr/docs/Web/API/Window/fetch) fait appel à une API qui démarre un processus de récupération d'une ressource à partir d'un serveur (ici le fichier de données au format JSON).\n",
    "\n",
    "Les données utiles sont stockées dans le champs `features` de la variable data.\n",
    "\n",
    "1. Insérer ce code dans le fichier HTML.\n",
    "2. Mettre à jour l'affichage de la page.\n",
    "3. Consulter la console du navigateur afin de visualiser le contenu lu.\n",
    "\n",
    "Voici ce que l'on doit obtenir sous Chrome :\n",
    "\n",
    "<hr>\n",
    "\n",
    "![alt text](image-2.png)\n",
    "\n",
    "<hr>"
   ]
  },
  {
   "cell_type": "markdown",
   "metadata": {},
   "source": [
    "La variable est un tableau de 16 éléments. Chaque élément représente une ligne de métro. cet élément est lui même un tableau dont le nombre d'éléments dépend du nombre de tronçons qui composent la ligne.\n",
    "\n",
    "Par exemple, on voit que la ligne `3bis` est composée de 3 tronçons.\n",
    "\n",
    "4. Dans la console, déplier totalement le contenu d'une des lignes afin de visualiser toutes les informations concernant cette ligne."
   ]
  },
  {
   "cell_type": "markdown",
   "metadata": {},
   "source": [
    "#### Construction des lignes de métros\n",
    "\n",
    "A ce stade nous disposons d'un fond de carte, d'une boite de contrôle et d'un groupe de calques prêt à être utilisé pour stocker les lignes de métros qui sont lues au format `GeoJSON` (format vectoriel).\n",
    "\n",
    "Chacune des lignes de métro fera l'objet d'un calque qui lui sera propre. Chaque calque obtenu sera stocké dans le groupe de calques."
   ]
  },
  {
   "cell_type": "markdown",
   "metadata": {},
   "source": [
    "<small>\n",
    "\n",
    "```javascript\n",
    "// URL du fichier GeoJSON des lignes de métro de Paris\n",
    "var metroGeoJSONUrl = 'metros.json';  // Remplacez par l'URL de votre fichier GeoJSON\n",
    "\n",
    "// Fonction pour ajouter chaque ligne de métro\n",
    "fetch(metroGeoJSONUrl)\n",
    "    .then(response => response.json())\n",
    "    .then(data => {\n",
    "        // Pour chaque ligne de métro dans le tableau\n",
    "        data.features.forEach(function(feature) {\n",
    "            // Créer une couche GeoJSON pour chaque ligne (groupe de tronçons)\n",
    "            var lineLayer = L.layerGroup();  // Un seul groupe de couches pour toute la ligne\n",
    "            // Parcourir chaque tronçon de la ligne (chaque feature est un tableau de tronçons)\n",
    "            feature.forEach(function(segment) {\n",
    "                // Vérification de la présence de la propriété 'colourweb_hexa'\n",
    "                var color = segment.properties.colourweb_hexa || \"#000000\";  // Valeur par défaut si manquant\n",
    "\n",
    "                // Ajouter chaque tronçon à la couche de la ligne\n",
    "                L.geoJSON(segment, {\n",
    "                    style: {\n",
    "                        color: \"#\" + color,  // Utiliser la couleur de la ligne\n",
    "                        weight: 4,  // Épaisseur de la ligne\n",
    "                        opacity: 1\n",
    "                        }\n",
    "                }).addTo(lineLayer);  // Ajouter le tronçon au groupe de couches\n",
    "            });\n",
    "\n",
    "            // Ajouter chaque ligne au groupe des lignes (pour le contrôle global)\n",
    "            allLinesLayer.addLayer(lineLayer);\n",
    "        });\n",
    "    })\n",
    "    .catch(error => console.log('Erreur lors du chargement du fichier GeoJSON:', error));\n",
    "```\n",
    "</small>\n"
   ]
  },
  {
   "cell_type": "markdown",
   "metadata": {},
   "source": [
    "1. Analyser le code donné ci-dessus afin de bien comprendre le mécanisme mis en place.\n",
    "2. Compléter la page web avec ce code.\n",
    "3. Ouvrir la page dans le navigateur et vérifier que les différentes lignes de métros sont bien affichées avec leur couleur officielle (dont le code hexadécimal est indiqué dans la structure de données)."
   ]
  },
  {
   "cell_type": "markdown",
   "metadata": {},
   "source": [
    "#### Ajout de la couche de contrôles\n",
    "\n",
    "La carte étant affichée avec une couche contenant les calques des différentes lignes de métro, il est maintenant temps de mettre en place la couche de contrôles.\n",
    "\n",
    "Dans un premier temps, cette couche doit permettre de l'affichage ou non de l'ensemble des lignes. A cette fin, un contrôle est ajouté sous forme d'une case à cocher.\n",
    "\n",
    "<small>\n",
    "\n",
    "```javascript\n",
    "        // Fonction pour ajouter chaque ligne de métro\n",
    "        fetch(metroGeoJSONUrl)\n",
    "            .then(response => response.json())\n",
    "            .then(data => {\n",
    "                data.features.forEach(function(feature) {\n",
    "                    \n",
    "                    ...\n",
    "\n",
    "                });\n",
    "\n",
    "                // Ajouter une case à cocher pour afficher/masquer toutes les lignes\n",
    "                var checkboxContainer = document.createElement('div');\n",
    "                // Appliquer la classe pour aligner horizontalement\n",
    "                checkboxContainer.className = 'checkbox-container'; \n",
    "\n",
    "                var checkboxLabel = document.createElement('label');\n",
    "                checkboxLabel.textContent = 'Afficher toutes les lignes';\n",
    "                \n",
    "                var checkbox = document.createElement('input');\n",
    "                checkbox.type = 'checkbox';\n",
    "                checkbox.checked = true;  // Par défaut, toutes les lignes sont affichées\n",
    "\n",
    "                // fonction évènementielle en réponse à un changement d'état de la case à cocher\n",
    "                checkbox.addEventListener('change', function() {\n",
    "                    if (checkbox.checked) {\n",
    "                        // Afficher toutes les lignes\n",
    "                        map.addLayer(allLinesLayer);\n",
    "                    } else {\n",
    "                        // Masquer toutes les lignes\n",
    "                        map.removeLayer(allLinesLayer);\n",
    "                    }\n",
    "                });\n",
    "\n",
    "                // Ajouter la case à cocher et son label au conteneur\n",
    "                checkboxContainer.appendChild(checkbox);\n",
    "                checkboxContainer.appendChild(checkboxLabel);\n",
    "                // Ajouter la case à cocher avant les autres éléments du contrôle\n",
    "                var layersContainer = votre_controle.getContainer();\n",
    "                layersContainer.insertBefore(checkboxContainer, layersContainer.firstChild);\n",
    "            })\n",
    "            .catch(error => console.log('Erreur lors du chargement du fichier GeoJSON:', error));\n",
    "```\n",
    "\n",
    "</small>\n"
   ]
  },
  {
   "cell_type": "markdown",
   "metadata": {},
   "source": [
    "1. Analyser le code donné ci-dessus afin de bien comprendre le mécanisme mis en place.\n",
    "2. Compléter la page web avec ce code.\n",
    "3. Ouvrir la page dans le navigateur et vérifier que le bon fonctionnement du contrôle."
   ]
  },
  {
   "cell_type": "markdown",
   "metadata": {},
   "source": [
    "La case à cocher mise en place dans la couche de contrôle permet d'afficher ou de cacher l'ensemble des lignes de métros. A présent, nous allons ajouter une case à cocher par ligne afin de pouvoir sélectionner une ou plusieurs lignes à afficher/cacher.\n",
    "\n",
    "Le code suivant montre de quelle manière opérer :\n",
    "\n",
    "<small>\n",
    "\n",
    "```javascript\n",
    "        // Fonction pour ajouter chaque ligne de métro\n",
    "        fetch(metroGeoJSONUrl)\n",
    "            .then(response => response.json())\n",
    "            .then(data => {\n",
    "                data.features.forEach(function(feature) {\n",
    "                    \n",
    "                    ...\n",
    "\n",
    "                    // Parcourir chaque tronçon de la ligne (chaque feature est un tableau de tronçons)\n",
    "                    feature.forEach(function(segment) {\n",
    "                        \n",
    "                        ...\n",
    "\n",
    "                    });\n",
    "\n",
    "                    // Récupérer le texte du champ 'res_com' (nom de la ligne)\n",
    "                    var lineName = feature[0].properties.res_com || \"Inconnu\";  // Utiliser \"Inconnu\" si 'res_com' est manquant\n",
    "                    // Ajouter la couche de la ligne au contrôle de couches\n",
    "                    votre_controle.addOverlay(lineLayer, lineName);\n",
    "\n",
    "                    // Ajouter chaque ligne au groupe des lignes (pour le contrôle global)\n",
    "                    allLinesLayer.addLayer(lineLayer);\n",
    "                });    \n",
    "\n",
    "```\n",
    "</small>"
   ]
  },
  {
   "cell_type": "markdown",
   "metadata": {},
   "source": [
    "1. Analyser le code donné ci-dessus afin de bien comprendre le mécanisme mis en place.\n",
    "2. Compléter la page web avec ce code.\n",
    "3. Ouvrir la page dans le navigateur et vérifier que le bon fonctionnement des différentes cases à cocher."
   ]
  },
  {
   "cell_type": "markdown",
   "metadata": {},
   "source": [
    "## A faire\n",
    "\n",
    "Quelques modifications pour la représentation des lignes de métros :\n",
    "\n",
    "1. Modifier l'épaisseur du tracé des lignes (actuellement 4).\n",
    "2. Jouer sur la transparence du tracé (de 0 à 1).\n",
    "3. Ajouter un contrôle qui permet de modifier la transapence des tracés en passant de opaque à semi-transparent."
   ]
  }
 ],
 "metadata": {
  "kernelspec": {
   "display_name": "Python 3",
   "language": "python",
   "name": "python3"
  },
  "language_info": {
   "codemirror_mode": {
    "name": "ipython",
    "version": 3
   },
   "file_extension": ".py",
   "mimetype": "text/x-python",
   "name": "python",
   "nbconvert_exporter": "python",
   "pygments_lexer": "ipython3",
   "version": "3.11.9"
  }
 },
 "nbformat": 4,
 "nbformat_minor": 2
}
