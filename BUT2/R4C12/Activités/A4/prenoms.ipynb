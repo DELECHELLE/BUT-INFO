{
 "cells": [
  {
   "cell_type": "markdown",
   "metadata": {},
   "source": [
    "# Tutoriel #4 - Les prénoms en France depuis 1900\n",
    "\n",
    "Ce notbook est une introduction à :\n",
    "\n",
    "1. **trois libraries python** facilitant l'analyse de données. \n",
    "   - matplotlib : permet de faire des graphiques\n",
    "   - numpy : permet de faciliter le travail avec des matrices et des vecteurs\n",
    "   - pandas : offre la possibilité de manipuler des tableaux de données plus complexe (DataFrame)\n",
    "1. **l'analyse de données**, ici les prénoms donnés aux enfants nés en France de 1900 à 2023 (sources INSEE).\n",
    "2. **la visualisation sur une carte** des résultats de cette analyse, en utilisant les techniques du GéoWeb et du Mashup.\n",
    "\n",
    "Nous nous servirons d'un jeu de données sur le nombre de naissances par prénoms, par départements et années pour illustrer l'usage de ces bibliothèques en essayant au passage d'explorer ces données.\n",
    "\n",
    "> Source des données : [insee - *Prénoms attribués aux enfants nés en France depuis 1900*](https://www.insee.fr/fr/statistiques/8205621?sommaire=8205628)\n"
   ]
  },
  {
   "cell_type": "markdown",
   "metadata": {},
   "source": [
    "## Mise en place\n",
    "Commençons par charger ces trois librairies et définir le mode d'affichage des figures de notre notebook avec l'instruction jupyter `%matplotlib inline`."
   ]
  },
  {
   "cell_type": "code",
   "execution_count": null,
   "metadata": {},
   "outputs": [],
   "source": [
    "import pandas as pd\n",
    "import numpy as np\n",
    "import matplotlib.pyplot as plt\n",
    "%matplotlib inline"
   ]
  },
  {
   "cell_type": "markdown",
   "metadata": {},
   "source": [
    "## Lecture du jeu de données et information contextuelles\n",
    "\n",
    "Nous pouvons charger les données avec pandas. La fonction 'read_csv' permet de charger les données nous psécifions juste le séparateur de champs en l'occurence `;`. Nous pouvons afficher les noms et le type des colonnes de ce tableau de données ainsi que sa taille."
   ]
  },
  {
   "cell_type": "code",
   "execution_count": null,
   "metadata": {},
   "outputs": [],
   "source": [
    "prenoms = pd.read_csv(\"./prenoms-1900-2023-dpt.csv\",sep=\";\")\n",
    "print(prenoms.dtypes)\n",
    "print(\"Nombre de lignes : {l}, nombre de colonnes : {c}\".format(l=prenoms.shape[0],c=prenoms.shape[1]))"
   ]
  },
  {
   "cell_type": "markdown",
   "metadata": {},
   "source": [
    "Nous pouvons également afficher quelques ligne du jeu de données avec la mèthode head."
   ]
  },
  {
   "cell_type": "code",
   "execution_count": null,
   "metadata": {},
   "outputs": [],
   "source": [
    "prenoms.head()"
   ]
  },
  {
   "cell_type": "markdown",
   "metadata": {},
   "source": [
    "L'objet `prenoms` est en effet une [DataFrame pandas](http://pandas.pydata.org/pandas-docs/version/0.23/dsintro.html#dataframe) qui dispose de nombreuse méthodes facilitant la manipulation de données. "
   ]
  },
  {
   "cell_type": "code",
   "execution_count": null,
   "metadata": {},
   "outputs": [],
   "source": [
    "prenoms.__class__"
   ]
  },
  {
   "cell_type": "markdown",
   "metadata": {},
   "source": [
    "## Accéder à des valeures : `loc`, `iloc`...\n",
    "\n",
    "Une des premières choses que nous pouvons faire, c'est accéder à des sous-ensembles de ce jeu de données, sélectionner quelques lignes et colonnnes. "
   ]
  },
  {
   "cell_type": "code",
   "execution_count": null,
   "metadata": {},
   "outputs": [],
   "source": [
    "# accès par position\n",
    "prenoms.iloc[125,:]"
   ]
  },
  {
   "cell_type": "code",
   "execution_count": null,
   "metadata": {},
   "outputs": [],
   "source": [
    "# accès par index (nom)\n",
    "prenoms.loc[:5,'sexe':'annais']"
   ]
  },
  {
   "cell_type": "code",
   "execution_count": null,
   "metadata": {},
   "outputs": [],
   "source": [
    "# selection booleenne\n",
    "prenoms[prenoms.sexe==2].head()"
   ]
  },
  {
   "cell_type": "code",
   "execution_count": null,
   "metadata": {},
   "outputs": [],
   "source": [
    "# abreviation\n",
    "prenoms['sexe'].head()"
   ]
  },
  {
   "cell_type": "code",
   "execution_count": null,
   "metadata": {},
   "outputs": [],
   "source": [
    "# abreviation\n",
    "prenoms.sexe.head()"
   ]
  },
  {
   "cell_type": "markdown",
   "metadata": {},
   "source": [
    "Chaque colonne d'une DataFrame est une [Serie pandas](https://pandas.pydata.org/pandas-docs/version/0.23.4/api.html#series). Les séries sont des vecteurs unidimensionels avec un index. Elles disposent, elles aussi, de méthodes utiles. "
   ]
  },
  {
   "cell_type": "code",
   "execution_count": null,
   "metadata": {},
   "outputs": [],
   "source": [
    "prenoms.sexe.__class__"
   ]
  },
  {
   "cell_type": "markdown",
   "metadata": {},
   "source": [
    "Nous pouvons par exemple utiliser la méthode `unique` pour récupérer la liste des départements de notre jeu de données."
   ]
  },
  {
   "cell_type": "code",
   "execution_count": null,
   "metadata": {},
   "outputs": [],
   "source": [
    "prenoms.dpt.unique()"
   ]
  },
  {
   "cell_type": "markdown",
   "metadata": {},
   "source": [
    "## Prétraitement\n",
    "Nous pouvont remarqué que pour certaines lignes l'année n'est pas renseignée. Il en est de même pour le département. Pour ces lignes les valeurs de l'année est remplacée 'XXXX' et celle du département par 'XX'.\n",
    "\n",
    "De plus, les prénoms rares ont été regroupés sous l'intitulé '_PRENOMS_RARES', nous allons également éliminer les lignes qui portent cette valeur.\n",
    "\n",
    "Avant d'analyser les prénoms, nous devons donc éliminer ces lignes du DataFrame."
   ]
  },
  {
   "cell_type": "code",
   "execution_count": null,
   "metadata": {},
   "outputs": [],
   "source": [
    "# Garder uniquement les lignes qui ne contiennent pas 'XXXX' dans 'annais' ou 'XX' dans 'dpt'\n",
    "prenoms = prenoms[ ~prenoms['annais'].isin(['XXXX']) & ~prenoms['dpt'].isin(['XX']) & ~prenoms['preusuel'].isin(['_PRENOMS_RARES'])]\n",
    "\n",
    "# Ré-indexation des lignes après suppression\n",
    "prenoms.reset_index(inplace=True, drop=True)\n",
    "prenoms.head(100)"
   ]
  },
  {
   "cell_type": "code",
   "execution_count": null,
   "metadata": {},
   "outputs": [],
   "source": [
    "prenoms = prenoms.astype({'sexe': int, 'annais': int, 'dpt': str})\n",
    "print(prenoms.dtypes)"
   ]
  },
  {
   "cell_type": "markdown",
   "metadata": {},
   "source": [
    "## Questions\n",
    "1. Filtrer les données pour trouver le nombre de Paul nés à paris en 1983 ?<br>Vous pourrer utiliser une sélection booléenne avec plusieurs clauses (attention aux paratenthèses et aux opérateurs utilisés `&`).\n",
    "2. Combien de naissances sont enregistrées dans ce jeu de données (vous pourrez regarder la méthode [`sum`](https://pandas.pydata.org/pandas-docs/stable/reference/api/pandas.Series.sum.html) ) ?\n",
    "3. Combien de naissances sont enregistrées à Paris en 1990 ?\n",
    "4. Dans quel département y a t'il eu le plus de Nathalie en 1983 (vous pourrez regarder la méthode [`sort_values`](https://pandas.pydata.org/pandas-docs/stable/reference/api/pandas.DataFrame.sort_values.html) )?\n"
   ]
  },
  {
   "cell_type": "markdown",
   "metadata": {},
   "source": [
    "Dans une série, nous pouvons axcéder aux valeurs (stockées dans un tableau numpy) et à l'index associé."
   ]
  },
  {
   "cell_type": "code",
   "execution_count": null,
   "metadata": {},
   "outputs": [],
   "source": [
    "prenoms[(prenoms.preusuel==\"PAUL\") & (prenoms.annais==\"1983\") & (prenoms.dpt==\"75\")]"
   ]
  },
  {
   "cell_type": "code",
   "execution_count": null,
   "metadata": {},
   "outputs": [],
   "source": [
    "prenoms.nombre.sum()"
   ]
  },
  {
   "cell_type": "code",
   "execution_count": null,
   "metadata": {},
   "outputs": [],
   "source": [
    "prenoms.loc[(prenoms.dpt==75) & (prenoms.annais==1990),[\"nombre\"]].sum()"
   ]
  },
  {
   "cell_type": "code",
   "execution_count": null,
   "metadata": {},
   "outputs": [],
   "source": [
    "prenoms[(prenoms.annais==1983) & (prenoms.preusuel==\"NATHALIE\")].sort_values(\"nombre\",ascending=False)"
   ]
  },
  {
   "cell_type": "markdown",
   "metadata": {},
   "source": [
    "Il peut être intéressant d'avoir accès à ce stockage et utiliser les possibilitée offertes par [numpy](https://docs.scipy.org/doc/numpy/reference/arrays.html). Cela peut, par exemple, nous permettre de cacluler nous même le coefficient d'asymétrie d'une distribution, ou [skewness en anglais](https://fr.wikipedia.org/wiki/Asym%C3%A9trie_(statistiques)), dont la formule est la suivante :\n",
    "\n",
    "$$skew =  \\frac{\\sum_{i=1}^N \\frac{(x_i-\\bar{x})^3}{N}}{s^3}$$\n",
    "\n",
    "avec $\\bar{x}$ la moyenne et $s$ l'écart type."
   ]
  },
  {
   "cell_type": "code",
   "execution_count": null,
   "metadata": {},
   "outputs": [],
   "source": [
    "n = prenoms.nombre.values"
   ]
  },
  {
   "cell_type": "code",
   "execution_count": null,
   "metadata": {},
   "outputs": [],
   "source": [
    "moyenne = np.mean(n)\n",
    "ecart_type = np.sqrt(np.mean(np.power(n-moyenne,2)))\n",
    "L=len(n)"
   ]
  },
  {
   "cell_type": "code",
   "execution_count": null,
   "metadata": {},
   "outputs": [],
   "source": [
    "s3  = np.sum(np.power(n-moyenne,3))/L\n",
    "s3n = s3/ecart_type**3 \n",
    "s3n"
   ]
  },
  {
   "cell_type": "markdown",
   "metadata": {},
   "source": [
    "Nous pouvons vérifier notre résultat en comparant avec celui de la fonction `skew` de la librairie `stats` de `scipy` :"
   ]
  },
  {
   "cell_type": "code",
   "execution_count": null,
   "metadata": {},
   "outputs": [],
   "source": [
    "from scipy.stats import skew\n",
    "skew(n)"
   ]
  },
  {
   "cell_type": "markdown",
   "metadata": {},
   "source": [
    "## Gestion des index\n",
    "\n",
    "Revenons un peu a pandas et parlons des index qui optimisent l'accès et sont également utilisés pour les jointures. **Ils peuvent être multiples**. Lors de la lecture du fichier un index par défaut a été construit avec un simple numéro de ligne. Il est possible de redéfinir nous même nos index avec la méthode `set_index` et en supprimer avec la méthode `reset_index`."
   ]
  },
  {
   "cell_type": "code",
   "execution_count": null,
   "metadata": {
    "scrolled": true
   },
   "outputs": [],
   "source": [
    "prenoms_index = prenoms.set_index(['preusuel', 'sexe', 'annais','dpt'])\n",
    "prenoms_index.head(10)"
   ]
  },
  {
   "cell_type": "markdown",
   "metadata": {},
   "source": [
    "## Accès à un élément via l'index\n",
    "Pour en savoir plus sur les [multi-index](https://pandas.pydata.org/pandas-docs/version/0.23.4/advanced.html#advanced)."
   ]
  },
  {
   "cell_type": "code",
   "execution_count": null,
   "metadata": {
    "scrolled": true
   },
   "outputs": [],
   "source": [
    "prenoms_index.loc[(\"AARON\",1,1985,'75')]"
   ]
  },
  {
   "cell_type": "markdown",
   "metadata": {},
   "source": [
    "## Résumé statistique\n",
    "Vous pouvez avoir rapidement une **description statistique** des colonnes numériques d'un DataFrame avec la méthode `describe`. Qui donne les information statistiques élémentaires : moyenne, écart-type, quartile,..."
   ]
  },
  {
   "cell_type": "code",
   "execution_count": null,
   "metadata": {},
   "outputs": [],
   "source": [
    "prenoms.describe()"
   ]
  },
  {
   "cell_type": "markdown",
   "metadata": {},
   "source": [
    "## Aggrégation : `group_by`\n",
    "Vous pouvez facilement faire des **opérations de regroupement** avec la méthode `group_by` celle-ci est utilisée ici pour calculer le nombre de naissances de chaque prénom grâce a une simple somme."
   ]
  },
  {
   "cell_type": "code",
   "execution_count": null,
   "metadata": {},
   "outputs": [],
   "source": [
    "prenoms_total = prenoms[[\"preusuel\",\"nombre\"]].groupby(\"preusuel\").sum().sort_values(\"nombre\",ascending=False)\n",
    "prenoms_total"
   ]
  },
  {
   "cell_type": "markdown",
   "metadata": {},
   "source": [
    "Mais vous pouvez fournir une autre opération d'aggrégation, utiliser plusieurs colonnes pour l'aggrégation et enchainer les groupements. La ligne suivante calcule, par exemple, pour chaque prénom et année, le nombre total de naissances et à partir de ce résultat le nombre maximal de naissances observées sur 1 année :"
   ]
  },
  {
   "cell_type": "code",
   "execution_count": null,
   "metadata": {},
   "outputs": [],
   "source": [
    "prenoms[[\"preusuel\",\"annais\",\"nombre\"]].groupby([\"preusuel\",\"annais\"]).sum().reset_index().groupby(\"preusuel\").agg(np.max).sort_values(\"nombre\",ascending=False)"
   ]
  },
  {
   "cell_type": "markdown",
   "metadata": {},
   "source": [
    "## Questions\n",
    "\n",
    "1. Quel département a eu le moins de naissances sur la période 1900-2023 ?\n",
    "1. Quel prénom a été le plus donné en 1983 ?"
   ]
  },
  {
   "cell_type": "code",
   "execution_count": null,
   "metadata": {},
   "outputs": [],
   "source": [
    "prenoms[[\"nombre\",\"dpt\"]].groupby(\"dpt\").sum().sort_values(\"nombre\")"
   ]
  },
  {
   "cell_type": "code",
   "execution_count": null,
   "metadata": {},
   "outputs": [],
   "source": [
    "prenoms[prenoms.annais==1983][[\"preusuel\",\"nombre\"]].groupby(\"preusuel\").sum().sort_values(\"nombre\",ascending=False).head(1)"
   ]
  },
  {
   "cell_type": "markdown",
   "metadata": {},
   "source": [
    "## Analyse des prénoms par année\n",
    "Nous allons étudier un peu les **courbes de popularité des prénoms** de ce jeu de données entre 1900 et 2023 en nous focalisant sur les prénoms les plus fréquents. Pour ce faire nous allons tracer la somme cumulée du pourcentage de naissances suivant le rang des prénoms. Le DataFrame `prenoms_total` est déja trié en ordre décroissant, nous pouvons donc simplement cumuler ces comptages et diviser par le nombre de naissances de manière à nous ramener à un pourcentage :"
   ]
  },
  {
   "cell_type": "code",
   "execution_count": null,
   "metadata": {},
   "outputs": [],
   "source": [
    "cdf = prenoms_total.nombre.cumsum()/prenoms_total.nombre.sum()*100\n",
    "cdf.head()"
   ]
  },
  {
   "cell_type": "markdown",
   "metadata": {},
   "source": [
    "Les Marie représentent plus de 2,9 % des naissance dans ce jeu de données et les 5 prénoms les plus courants couvrent près de 8,5 % des naissances.  "
   ]
  },
  {
   "cell_type": "code",
   "execution_count": null,
   "metadata": {},
   "outputs": [],
   "source": [
    "f  = plt.plot(range(0,len(cdf),100),cdf.values[range(0,len(cdf),100)])\n",
    "xl = plt.xlabel(\"Rang du prénom\")\n",
    "yl = plt.ylabel(\"% de naissances cumulées\")"
   ]
  },
  {
   "cell_type": "markdown",
   "metadata": {},
   "source": [
    "Autrement dit, si nous ne conservons que les 1000 prénoms les plus courants, nous couvrirons plus de 94 % des naissances."
   ]
  },
  {
   "cell_type": "code",
   "execution_count": null,
   "metadata": {},
   "outputs": [],
   "source": [
    "cdf.iloc[999]"
   ]
  },
  {
   "cell_type": "markdown",
   "metadata": {},
   "source": [
    "Nous allons donc nous focaliser sur ces prénoms et observer l'évolution de leur popularité."
   ]
  },
  {
   "cell_type": "code",
   "execution_count": null,
   "metadata": {},
   "outputs": [],
   "source": [
    "# récupération de la liste des 1000 prénoms les + utilisés\n",
    "liste_prenoms_courants = prenoms_total.index.values[:1000]\n",
    "\n",
    "# filtrage des données pour ne conserver que les prénoms courants, utilisation de la méthode 'isin'\n",
    "prenoms_freq = prenoms[prenoms.preusuel.isin(liste_prenoms_courants)]\n",
    "\n",
    "# création de la série temporelle nombre de naissances par année\n",
    "prenoms_annees = prenoms_freq[[\"preusuel\",\"annais\",\"nombre\"]].groupby([\"preusuel\",\"annais\"]).sum()\n",
    "prenoms_annees.head()\n"
   ]
  },
  {
   "cell_type": "markdown",
   "metadata": {},
   "source": [
    "Nous pouvons maintenant observer l'évolution temporelle de la popularité de ces prénoms. Regardons, par exemple, les courbes des Josette, Antoine et Emma :"
   ]
  },
  {
   "cell_type": "code",
   "execution_count": null,
   "metadata": {},
   "outputs": [],
   "source": [
    "fig, ax = plt.subplots()\n",
    "listeprenoms = [\"JOSETTE\", \"EMMA\",\"ANTOINE\"]\n",
    "for p in listeprenoms:\n",
    "    nbnaiss = prenoms_annees.reset_index(\"annais\").loc[p]\n",
    "    fj  = ax.plot(nbnaiss.annais,nbnaiss.nombre,label=p)\n",
    "\n",
    "leg = ax.legend()"
   ]
  },
  {
   "cell_type": "markdown",
   "metadata": {},
   "source": [
    "## Passage en format large\n",
    "\n",
    "Méthodes `unstack` et `fillna`.\n",
    "\n",
    "Nous allons passer les données en format large avec une colonne par année et une ligne par prénom en utilisant la méthode `unstack`. Nous appliquerons également une complétion des données manquantes avec des 0 avec ma méthode `fillna`."
   ]
  },
  {
   "cell_type": "code",
   "execution_count": null,
   "metadata": {},
   "outputs": [],
   "source": [
    "prenoms_annees_large=prenoms_annees.unstack().fillna(0)[\"nombre\"]\n",
    "prenoms_annees_large"
   ]
  },
  {
   "cell_type": "code",
   "execution_count": null,
   "metadata": {},
   "outputs": [],
   "source": [
    "years = prenoms_annees_large.columns.values\n",
    "years"
   ]
  },
  {
   "cell_type": "markdown",
   "metadata": {},
   "source": [
    "## Analyse par département et année"
   ]
  },
  {
   "cell_type": "markdown",
   "metadata": {},
   "source": [
    "Création d'une carte animée des **prénoms masculins** les plus donnés par département et par année"
   ]
  },
  {
   "cell_type": "code",
   "execution_count": null,
   "metadata": {},
   "outputs": [],
   "source": [
    "# extraction des prénoms masculin les plus données\n",
    "prenoms_annees_dep=prenoms_freq.loc[prenoms_freq.sexe==1,].sort_values(\"nombre\", ascending=False).groupby([\"annais\",\"dpt\"])"
   ]
  },
  {
   "cell_type": "code",
   "execution_count": null,
   "metadata": {},
   "outputs": [],
   "source": [
    "prenoms_annees_dep = prenoms_annees_dep.agg(lambda v: v.iloc[0])"
   ]
  },
  {
   "cell_type": "code",
   "execution_count": null,
   "metadata": {},
   "outputs": [],
   "source": [
    "prenoms_annees_dep"
   ]
  },
  {
   "cell_type": "markdown",
   "metadata": {},
   "source": [
    "# Web mapping des données"
   ]
  },
  {
   "cell_type": "markdown",
   "metadata": {},
   "source": [
    "### Recherche des limites des départements\n",
    "> **Geocoding** avec Nominatim (OSM) : on recherche le nom et les limites d'un département à partir du numéro de ce département<br>"
   ]
  },
  {
   "cell_type": "code",
   "execution_count": null,
   "metadata": {},
   "outputs": [],
   "source": [
    "def get_department_boundaries_with_Nominatim(department_code):\n",
    "    # Construire l'URL de la requête vers l'API Nominatim\n",
    "    url = f\"https://nominatim.openstreetmap.org/search?state=France&county={department_code}&format=json&polygon_geojson=1&accept-language=fr\"\n",
    "    \n",
    "    # Utiliser pandas pour lire directement le JSON depuis l'URL\n",
    "    data = pd.read_json(url)\n",
    "    \n",
    "    # Vérifier si des résultats sont trouvés\n",
    "    if not data.empty:\n",
    "        # Extraire le GeoJSON (les contours) du DataFrame et le nom du département\n",
    "        geojson = data['geojson'].iloc[0]  # On suppose qu'il n'y a qu'un seul département pour ce code\n",
    "        name = data['name'].iloc[0]\n",
    "        return name, geojson\n",
    "    else:\n",
    "        print(f\"Aucun département trouvé pour le code {department_code}\")\n",
    "        return None, None\n",
    "\n",
    "# Exemple d'utilisation pour le département 94 (Val-de-Marne)\n",
    "department_code = \"corse\"\n",
    "nom, geojson = get_department_boundaries_with_Nominatim(department_code)\n",
    "\n",
    "if nom:\n",
    "    print(nom)\n"
   ]
  },
  {
   "cell_type": "code",
   "execution_count": null,
   "metadata": {},
   "outputs": [],
   "source": [
    "import folium\n",
    "\n",
    "# Créer la carte centrée sur la France\n",
    "m = folium.Map(location=[46.603354, 1.888334], zoom_start=6)\n",
    "\n",
    "# Ajouter le nom et les contours du département au format GeoJSON à la carte\n",
    "folium.GeoJson(geojson, tooltip=folium.Tooltip(nom)).add_to(m)\n",
    "\n",
    "# Afficher la carte dans le notebook\n",
    "m"
   ]
  },
  {
   "cell_type": "code",
   "execution_count": null,
   "metadata": {},
   "outputs": [],
   "source": [
    "# Sauvegarde de la carte au format HTML\n",
    "m.save(\"department_map.html\")"
   ]
  },
  {
   "cell_type": "markdown",
   "metadata": {},
   "source": [
    "### Pour l'ensemble des départements présents dans les données"
   ]
  },
  {
   "cell_type": "code",
   "execution_count": null,
   "metadata": {},
   "outputs": [],
   "source": [
    "# Récupération des numéros de départements dans le DataFrame (France métropolitaine)\n",
    "unique_dpt_values = list(prenoms_annees_dep.index.get_level_values('dpt').unique())\n",
    "unique_dpt_values = [dpt for dpt in unique_dpt_values if int(dpt) <= 95]\n",
    "print(unique_dpt_values)"
   ]
  },
  {
   "cell_type": "code",
   "execution_count": null,
   "metadata": {},
   "outputs": [],
   "source": [
    "# Création de la carte et mappage des contours et des noms des départements\n",
    "from IPython.display import clear_output\n",
    "\n",
    "# Créer la carte centrée sur la France\n",
    "m = folium.Map(location=[46.603354, 1.888334], zoom_start=6)\n",
    "\n",
    "for dep_code in unique_dpt_values:\n",
    "    # Pour la Corse : 20 est le numéro de la région Corse (2A+2B)\n",
    "    if dep_code == '20':\n",
    "        dep_code = 'Corse'\n",
    "    nom, geojson = get_department_boundaries_with_Nominatim(dep_code)\n",
    "    print(f\"département {dep_code} : {nom}\")\n",
    "    clear_output(wait=True)\n",
    "\n",
    "    # Ajouter le nom et les contours du département au format GeoJSON à la carte\n",
    "    folium.GeoJson(geojson, tooltip=folium.Tooltip(f\"{nom} ({dep_code})\")).add_to(m)\n",
    "\n",
    "# Afficher la carte dans le notebook\n",
    "m"
   ]
  },
  {
   "cell_type": "code",
   "execution_count": null,
   "metadata": {},
   "outputs": [],
   "source": [
    "# Sauvegarde de la carte au format HTML\n",
    "m.save(\"france_map.html\")"
   ]
  },
  {
   "cell_type": "code",
   "execution_count": null,
   "metadata": {},
   "outputs": [],
   "source": [
    "# Récupération des années dans le DataFrame\n",
    "unique_year_values = list(prenoms_annees_dep.index.get_level_values('annais').unique())\n",
    "print(unique_year_values)"
   ]
  },
  {
   "cell_type": "markdown",
   "metadata": {},
   "source": [
    "# A faire\n",
    "\n",
    "Vous disposez d'une carte des départements et des données annualisées sur la fréquence des prénoms donnés en France.\n",
    "\n",
    "1. Compléter la carte en reportant sur celle-ci, pour une année donnée, les 5 prénoms masculins les plus fréquents.\n",
    "2. Faire de même pour les prénoms féminins.\n",
    "3. Dotter la carte d'un control permettant de sélectionner l'année et le genre (H/F) des prénoms.\n",
    "   \n",
    "A vous d'imaginer de quelle manière visualiser ces informations sur la carte (couleurs, marqueurs, ...)"
   ]
  }
 ],
 "metadata": {
  "kernelspec": {
   "display_name": "Python 3",
   "language": "python",
   "name": "python3"
  },
  "language_info": {
   "codemirror_mode": {
    "name": "ipython",
    "version": 3
   },
   "file_extension": ".py",
   "mimetype": "text/x-python",
   "name": "python",
   "nbconvert_exporter": "python",
   "pygments_lexer": "ipython3",
   "version": "3.11.9"
  }
 },
 "nbformat": 4,
 "nbformat_minor": 1
}
